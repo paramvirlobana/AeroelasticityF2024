{
 "cells": [
  {
   "cell_type": "code",
   "execution_count": 10,
   "metadata": {},
   "outputs": [],
   "source": [
    "import numpy as np\n",
    "from ambiance import Atmosphere"
   ]
  },
  {
   "cell_type": "code",
   "execution_count": 15,
   "metadata": {},
   "outputs": [
    {
     "name": "stdout",
     "output_type": "stream",
     "text": [
      "[0, 70.0, 83.88888888888889, 83.88888888888889, 31.25, 0, 0]\n",
      "[np.float64(0.0), np.float64(70.0000005178368), np.float64(80.70061865507049), np.float64(72.27350059255646), np.float64(26.923075551862922), np.float64(0.0), np.float64(0.0)]\n"
     ]
    }
   ],
   "source": [
    "TAS = [0, 252/3.6, 302/3.6, 302/3.6, 112.5/3.6, 0, 0]\n",
    "ALT = [0, 0, 800, 3000, 3000, 1200, 0]\n",
    "\n",
    "EAS = []\n",
    "\n",
    "for i in range(len(TAS)):\n",
    "    flightlevel = Atmosphere(ALT[i])\n",
    "    rho_inf = flightlevel.density[0]\n",
    "    EAS_temo = TAS[i] * np.sqrt(rho_inf/1.225)\n",
    "    EAS.append(EAS_temo)\n",
    "\n",
    "print(TAS)\n",
    "print(EAS)\n",
    "\n"
   ]
  }
 ],
 "metadata": {
  "kernelspec": {
   "display_name": "Python 3",
   "language": "python",
   "name": "python3"
  },
  "language_info": {
   "codemirror_mode": {
    "name": "ipython",
    "version": 3
   },
   "file_extension": ".py",
   "mimetype": "text/x-python",
   "name": "python",
   "nbconvert_exporter": "python",
   "pygments_lexer": "ipython3",
   "version": "3.10.12"
  }
 },
 "nbformat": 4,
 "nbformat_minor": 2
}
