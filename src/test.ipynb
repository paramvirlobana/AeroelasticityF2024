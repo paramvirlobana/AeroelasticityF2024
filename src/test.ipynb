{
 "cells": [
  {
   "cell_type": "code",
   "execution_count": 17,
   "metadata": {},
   "outputs": [],
   "source": [
    "import numpy as np\n",
    "from ambiance import Atmosphere\n",
    "import pandas as pd"
   ]
  },
  {
   "cell_type": "code",
   "execution_count": 23,
   "metadata": {},
   "outputs": [
    {
     "name": "stdout",
     "output_type": "stream",
     "text": [
      "[0, 0, 800, 3000, 3000, 1200, 0]\n",
      "[0, 70.0, 83.88888888888889, 83.88888888888889, 31.25, 0, 0]\n",
      "[np.float64(0.0), np.float64(70.0000005178368), np.float64(80.70061865507049), np.float64(72.27350059255646), np.float64(26.923075551862922), np.float64(0.0), np.float64(0.0)]\n",
      "[np.float64(0.0), np.float64(80.5000005955123), np.float64(92.80571145333106), np.float64(83.11452568143991), np.float64(30.96153688464236), np.float64(0.0), np.float64(0.0)]\n"
     ]
    }
   ],
   "source": [
    "TAS = [0, 252/3.6, 302/3.6, 302/3.6, 112.5/3.6, 0, 0]\n",
    "ALT = [0, 0, 800, 3000, 3000, 1200, 0]\n",
    "\n",
    "EAS = []\n",
    "\n",
    "for i in range(len(TAS)):\n",
    "    flightlevel = Atmosphere(ALT[i])\n",
    "    rho_inf = flightlevel.density[0]\n",
    "    EAS_temo = TAS[i] * np.sqrt(rho_inf/1.225)\n",
    "    EAS.append(EAS_temo)\n",
    "\n",
    "EAS15    = [i * 1.15 for i in EAS]\n",
    "print(ALT)\n",
    "print(TAS)\n",
    "print(EAS)\n",
    "print(EAS15)\n",
    "\n"
   ]
  },
  {
   "cell_type": "code",
   "execution_count": 20,
   "metadata": {},
   "outputs": [
    {
     "name": "stdout",
     "output_type": "stream",
     "text": [
      "0      101.241634\n",
      "1      101.275835\n",
      "2      101.309645\n",
      "3      101.343067\n",
      "4      101.376104\n",
      "          ...    \n",
      "296    101.600053\n",
      "297    101.584692\n",
      "298    101.569310\n",
      "299    101.553907\n",
      "300    101.538484\n",
      "Name: VV, Length: 301, dtype: float64\n"
     ]
    }
   ],
   "source": [
    "df_full = pd.read_csv(\"modules/full.csv\")\n",
    "df_empty = pd.read_csv(\"modules/empty.csv\")\n",
    "\n",
    "h_results_full = df_full['h']\n",
    "V_results_full = df_full['VV']\n",
    "\n",
    "h_results_empty = df_empty['h']\n",
    "V_results_empty = df_empty['VV']\n",
    "\n",
    "\n",
    "\n",
    "print(V_results_empty)\n",
    "    "
   ]
  }
 ],
 "metadata": {
  "kernelspec": {
   "display_name": "Python 3",
   "language": "python",
   "name": "python3"
  },
  "language_info": {
   "codemirror_mode": {
    "name": "ipython",
    "version": 3
   },
   "file_extension": ".py",
   "mimetype": "text/x-python",
   "name": "python",
   "nbconvert_exporter": "python",
   "pygments_lexer": "ipython3",
   "version": "3.10.12"
  }
 },
 "nbformat": 4,
 "nbformat_minor": 2
}
